{
 "cells": [
  {
   "cell_type": "code",
   "execution_count": 2,
   "id": "6e9a18af",
   "metadata": {},
   "outputs": [
    {
     "name": "stdout",
     "output_type": "stream",
     "text": [
      "Traceback (most recent call last):\r\n",
      "  File \"train.py\", line 4, in <module>\r\n",
      "    import torch\r\n",
      "ModuleNotFoundError: No module named 'torch'\r\n"
     ]
    }
   ],
   "source": [
    "!python3 train.py\\\n",
    "  --name RegionMaker\\\n",
    "  --fp16\\\n",
    "  --dataroot \"./datasets/RegionMaker/\"\\\n",
    "  --no_instance\\\n",
    "  --label_nc 0\\"
   ]
  },
  {
   "cell_type": "code",
   "execution_count": null,
   "id": "cb6aedba",
   "metadata": {},
   "outputs": [],
   "source": []
  }
 ],
 "metadata": {
  "kernelspec": {
   "display_name": "base",
   "language": "python",
   "name": "base"
  },
  "language_info": {
   "codemirror_mode": {
    "name": "ipython",
    "version": 3
   },
   "file_extension": ".py",
   "mimetype": "text/x-python",
   "name": "python",
   "nbconvert_exporter": "python",
   "pygments_lexer": "ipython3",
   "version": "3.6.9"
  }
 },
 "nbformat": 4,
 "nbformat_minor": 5
}
